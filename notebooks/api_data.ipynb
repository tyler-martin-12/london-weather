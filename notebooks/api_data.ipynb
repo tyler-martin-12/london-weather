{
 "cells": [
  {
   "cell_type": "code",
   "execution_count": 1,
   "id": "4c1d887b",
   "metadata": {},
   "outputs": [
    {
     "name": "stderr",
     "output_type": "stream",
     "text": [
      "/var/folders/zr/0mklm_6s5zg8kfjw3xy0w3bh0000gn/T/ipykernel_31653/3700585894.py:8: DeprecationWarning: Importing display from IPython.core.display is deprecated since IPython 7.14, please import from IPython display\n",
      "  from IPython.core.display import display, HTML\n"
     ]
    },
    {
     "data": {
      "text/html": [
       "<style>.container { width:80% !important; }</style>"
      ],
      "text/plain": [
       "<IPython.core.display.HTML object>"
      ]
     },
     "metadata": {},
     "output_type": "display_data"
    }
   ],
   "source": [
    "import numpy as np\n",
    "import pandas as pd\n",
    "import time\n",
    "from datetime import datetime\n",
    "import json\n",
    "%load_ext autoreload\n",
    "%autoreload 2\n",
    "from IPython.core.display import display, HTML\n",
    "display(HTML(\"<style>.container { width:80% !important; }</style>\"))\n",
    "from tqdm.notebook import tqdm\n",
    "tqdm.pandas()\n",
    "import requests\n",
    "import os\n",
    "import matplotlib.pyplot as plt\n",
    "import matplotlib.dates as mdates\n",
    "from pathlib import Path\n",
    "import warnings\n",
    "warnings.simplefilter(action='ignore', category=FutureWarning)"
   ]
  },
  {
   "cell_type": "code",
   "execution_count": 2,
   "id": "be960e89",
   "metadata": {},
   "outputs": [],
   "source": [
    "TOP_DIR='/Users/tylermartin/Documents/programming/london_weather'"
   ]
  },
  {
   "cell_type": "code",
   "execution_count": 8,
   "id": "258978e8",
   "metadata": {},
   "outputs": [],
   "source": [
    "def get_unix_time():\n",
    "    now = datetime.now()\n",
    "    unix = int(time.mktime(now.timetuple()))\n",
    "    return unix\n",
    "\n",
    "\n",
    "def dt_to_unix(dt):\n",
    "    return int(time.mktime(dt.timetuple()))\n",
    "\n",
    "\n",
    "def response_to_df(response):\n",
    "    day = json.loads(response.text)\n",
    "    df = pd.DataFrame(day['hourly']['data'])\n",
    "    to_drop = 'dewPoint ozone precipType pressure uvIndex'.split()\n",
    "    to_drop = [c for c in to_drop if c in df.columns]\n",
    "    df.drop(to_drop, axis=1, inplace=True)\n",
    "    return df\n",
    "\n",
    "\n",
    "def load_year(place):\n",
    "    path = f'data/{place}/*csv'\n",
    "    files = glob(path)\n",
    "    logging.info(f'{len(files)} days downloaded')\n",
    "    df = pd.concat([pd.read_csv(f) for f in files], sort=False)\n",
    "    df.reset_index(inplace=True, drop=True)\n",
    "    df.sort_values('time', inplace=True)\n",
    "    df['dt'] = df.time.apply(unix_to_ts)\n",
    "    return df"
   ]
  },
  {
   "cell_type": "code",
   "execution_count": null,
   "id": "cb6d48fc",
   "metadata": {},
   "outputs": [],
   "source": []
  },
  {
   "cell_type": "code",
   "execution_count": 25,
   "id": "a605a4c6",
   "metadata": {},
   "outputs": [],
   "source": [
    "key=read_key()"
   ]
  },
  {
   "cell_type": "code",
   "execution_count": 26,
   "id": "412ba3c6",
   "metadata": {},
   "outputs": [],
   "source": [
    "lat,long=read_latlong()['london']"
   ]
  },
  {
   "cell_type": "code",
   "execution_count": null,
   "id": "f96db576",
   "metadata": {},
   "outputs": [],
   "source": []
  },
  {
   "cell_type": "code",
   "execution_count": null,
   "id": "bd923fef",
   "metadata": {},
   "outputs": [],
   "source": []
  },
  {
   "cell_type": "code",
   "execution_count": null,
   "id": "2e4988ea",
   "metadata": {},
   "outputs": [],
   "source": []
  },
  {
   "cell_type": "code",
   "execution_count": null,
   "id": "10a0fe38",
   "metadata": {},
   "outputs": [],
   "source": []
  },
  {
   "cell_type": "code",
   "execution_count": null,
   "id": "e681ad09",
   "metadata": {},
   "outputs": [],
   "source": []
  },
  {
   "cell_type": "code",
   "execution_count": 59,
   "id": "f0e0e614",
   "metadata": {},
   "outputs": [],
   "source": [
    "files =list(Path(TOP_DIR).glob('data/*.parquet'))\n",
    "files.sort()"
   ]
  },
  {
   "cell_type": "code",
   "execution_count": 60,
   "id": "c3c5ac5c",
   "metadata": {},
   "outputs": [
    {
     "data": {
      "application/vnd.jupyter.widget-view+json": {
       "model_id": "d94a6a2348254a9facd653fc501821fa",
       "version_major": 2,
       "version_minor": 0
      },
      "text/plain": [
       "  0%|          | 0/10 [00:00<?, ?it/s]"
      ]
     },
     "metadata": {},
     "output_type": "display_data"
    }
   ],
   "source": [
    "df=pd.concat([pd.read_parquet(f) for f in tqdm(files)])"
   ]
  },
  {
   "cell_type": "code",
   "execution_count": 61,
   "id": "1ab8a64a",
   "metadata": {},
   "outputs": [
    {
     "data": {
      "text/html": [
       "<div>\n",
       "<style scoped>\n",
       "    .dataframe tbody tr th:only-of-type {\n",
       "        vertical-align: middle;\n",
       "    }\n",
       "\n",
       "    .dataframe tbody tr th {\n",
       "        vertical-align: top;\n",
       "    }\n",
       "\n",
       "    .dataframe thead th {\n",
       "        text-align: right;\n",
       "    }\n",
       "</style>\n",
       "<table border=\"1\" class=\"dataframe\">\n",
       "  <thead>\n",
       "    <tr style=\"text-align: right;\">\n",
       "      <th></th>\n",
       "      <th>unix</th>\n",
       "      <th>temp</th>\n",
       "      <th>apparent_temp</th>\n",
       "      <th>humidity</th>\n",
       "      <th>wind_speed</th>\n",
       "      <th>wind_bearing</th>\n",
       "      <th>cloud_cover</th>\n",
       "      <th>visibility</th>\n",
       "      <th>ts</th>\n",
       "    </tr>\n",
       "  </thead>\n",
       "  <tbody>\n",
       "    <tr>\n",
       "      <th>0</th>\n",
       "      <td>1546300800</td>\n",
       "      <td>47.88</td>\n",
       "      <td>43.79</td>\n",
       "      <td>0.77</td>\n",
       "      <td>8.97</td>\n",
       "      <td>288.0</td>\n",
       "      <td>0.99</td>\n",
       "      <td>6.216</td>\n",
       "      <td>2019-01-01 00:00:00</td>\n",
       "    </tr>\n",
       "    <tr>\n",
       "      <th>1</th>\n",
       "      <td>1546304400</td>\n",
       "      <td>47.51</td>\n",
       "      <td>43.15</td>\n",
       "      <td>0.78</td>\n",
       "      <td>9.46</td>\n",
       "      <td>291.0</td>\n",
       "      <td>0.99</td>\n",
       "      <td>6.216</td>\n",
       "      <td>2019-01-01 01:00:00</td>\n",
       "    </tr>\n",
       "    <tr>\n",
       "      <th>2</th>\n",
       "      <td>1546308000</td>\n",
       "      <td>48.50</td>\n",
       "      <td>44.48</td>\n",
       "      <td>0.75</td>\n",
       "      <td>9.17</td>\n",
       "      <td>296.0</td>\n",
       "      <td>0.99</td>\n",
       "      <td>6.216</td>\n",
       "      <td>2019-01-01 02:00:00</td>\n",
       "    </tr>\n",
       "    <tr>\n",
       "      <th>3</th>\n",
       "      <td>1546311600</td>\n",
       "      <td>48.50</td>\n",
       "      <td>44.38</td>\n",
       "      <td>0.73</td>\n",
       "      <td>9.45</td>\n",
       "      <td>290.0</td>\n",
       "      <td>0.99</td>\n",
       "      <td>6.216</td>\n",
       "      <td>2019-01-01 03:00:00</td>\n",
       "    </tr>\n",
       "    <tr>\n",
       "      <th>4</th>\n",
       "      <td>1546315200</td>\n",
       "      <td>48.24</td>\n",
       "      <td>44.23</td>\n",
       "      <td>0.72</td>\n",
       "      <td>8.96</td>\n",
       "      <td>292.0</td>\n",
       "      <td>0.96</td>\n",
       "      <td>6.216</td>\n",
       "      <td>2019-01-01 04:00:00</td>\n",
       "    </tr>\n",
       "    <tr>\n",
       "      <th>...</th>\n",
       "      <td>...</td>\n",
       "      <td>...</td>\n",
       "      <td>...</td>\n",
       "      <td>...</td>\n",
       "      <td>...</td>\n",
       "      <td>...</td>\n",
       "      <td>...</td>\n",
       "      <td>...</td>\n",
       "      <td>...</td>\n",
       "    </tr>\n",
       "    <tr>\n",
       "      <th>19</th>\n",
       "      <td>1547146800</td>\n",
       "      <td>40.80</td>\n",
       "      <td>37.34</td>\n",
       "      <td>0.88</td>\n",
       "      <td>5.10</td>\n",
       "      <td>280.0</td>\n",
       "      <td>0.97</td>\n",
       "      <td>4.479</td>\n",
       "      <td>2019-01-10 19:00:00</td>\n",
       "    </tr>\n",
       "    <tr>\n",
       "      <th>20</th>\n",
       "      <td>1547150400</td>\n",
       "      <td>41.19</td>\n",
       "      <td>37.45</td>\n",
       "      <td>0.89</td>\n",
       "      <td>5.58</td>\n",
       "      <td>276.0</td>\n",
       "      <td>0.96</td>\n",
       "      <td>3.683</td>\n",
       "      <td>2019-01-10 20:00:00</td>\n",
       "    </tr>\n",
       "    <tr>\n",
       "      <th>21</th>\n",
       "      <td>1547154000</td>\n",
       "      <td>41.19</td>\n",
       "      <td>37.37</td>\n",
       "      <td>0.91</td>\n",
       "      <td>5.70</td>\n",
       "      <td>262.0</td>\n",
       "      <td>0.89</td>\n",
       "      <td>3.500</td>\n",
       "      <td>2019-01-10 21:00:00</td>\n",
       "    </tr>\n",
       "    <tr>\n",
       "      <th>22</th>\n",
       "      <td>1547157600</td>\n",
       "      <td>41.95</td>\n",
       "      <td>37.76</td>\n",
       "      <td>0.91</td>\n",
       "      <td>6.53</td>\n",
       "      <td>276.0</td>\n",
       "      <td>0.74</td>\n",
       "      <td>3.161</td>\n",
       "      <td>2019-01-10 22:00:00</td>\n",
       "    </tr>\n",
       "    <tr>\n",
       "      <th>23</th>\n",
       "      <td>1547161200</td>\n",
       "      <td>42.84</td>\n",
       "      <td>39.19</td>\n",
       "      <td>0.92</td>\n",
       "      <td>5.92</td>\n",
       "      <td>297.0</td>\n",
       "      <td>0.98</td>\n",
       "      <td>3.315</td>\n",
       "      <td>2019-01-10 23:00:00</td>\n",
       "    </tr>\n",
       "  </tbody>\n",
       "</table>\n",
       "<p>240 rows × 9 columns</p>\n",
       "</div>"
      ],
      "text/plain": [
       "          unix   temp  apparent_temp  humidity  wind_speed  wind_bearing  \\\n",
       "0   1546300800  47.88          43.79      0.77        8.97         288.0   \n",
       "1   1546304400  47.51          43.15      0.78        9.46         291.0   \n",
       "2   1546308000  48.50          44.48      0.75        9.17         296.0   \n",
       "3   1546311600  48.50          44.38      0.73        9.45         290.0   \n",
       "4   1546315200  48.24          44.23      0.72        8.96         292.0   \n",
       "..         ...    ...            ...       ...         ...           ...   \n",
       "19  1547146800  40.80          37.34      0.88        5.10         280.0   \n",
       "20  1547150400  41.19          37.45      0.89        5.58         276.0   \n",
       "21  1547154000  41.19          37.37      0.91        5.70         262.0   \n",
       "22  1547157600  41.95          37.76      0.91        6.53         276.0   \n",
       "23  1547161200  42.84          39.19      0.92        5.92         297.0   \n",
       "\n",
       "    cloud_cover  visibility                  ts  \n",
       "0          0.99       6.216 2019-01-01 00:00:00  \n",
       "1          0.99       6.216 2019-01-01 01:00:00  \n",
       "2          0.99       6.216 2019-01-01 02:00:00  \n",
       "3          0.99       6.216 2019-01-01 03:00:00  \n",
       "4          0.96       6.216 2019-01-01 04:00:00  \n",
       "..          ...         ...                 ...  \n",
       "19         0.97       4.479 2019-01-10 19:00:00  \n",
       "20         0.96       3.683 2019-01-10 20:00:00  \n",
       "21         0.89       3.500 2019-01-10 21:00:00  \n",
       "22         0.74       3.161 2019-01-10 22:00:00  \n",
       "23         0.98       3.315 2019-01-10 23:00:00  \n",
       "\n",
       "[240 rows x 9 columns]"
      ]
     },
     "execution_count": 61,
     "metadata": {},
     "output_type": "execute_result"
    }
   ],
   "source": [
    "df"
   ]
  },
  {
   "cell_type": "code",
   "execution_count": 30,
   "id": "ea18afad",
   "metadata": {},
   "outputs": [],
   "source": []
  }
 ],
 "metadata": {
  "kernelspec": {
   "display_name": "Python 3 (ipykernel)",
   "language": "python",
   "name": "python3"
  },
  "language_info": {
   "codemirror_mode": {
    "name": "ipython",
    "version": 3
   },
   "file_extension": ".py",
   "mimetype": "text/x-python",
   "name": "python",
   "nbconvert_exporter": "python",
   "pygments_lexer": "ipython3",
   "version": "3.10.4"
  }
 },
 "nbformat": 4,
 "nbformat_minor": 5
}
